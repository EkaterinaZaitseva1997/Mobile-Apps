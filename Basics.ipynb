{
 "cells": [
  {
   "cell_type": "markdown",
   "metadata": {
    "collapsed": true
   },
   "source": [
    "This data set contains information about mobile apps in AppStore and Google Play which are free to download and install, but with knowledge of amount of people who use these apps we can speak about the revenue because the main source of revenue of free mobile apps consists of in-app ads and it is mostly influenced by the number of users that use our app.\n",
    "\n",
    "**The main goal** of this analysis is to find out the most attractive apps and then give this information to developers for future development.\n",
    "\n",
    "[Google Play Store Apps](https://www.kaggle.com/lava18/google-play-store-apps/home) - about approximately 10000 Android apps from Google Play  \n",
    "[Mobile App Store](https://www.kaggle.com/ramamet4/app-store-apple-data-set-10k-apps/home) - about approximately 7000 iOS apps from the App Store"
   ]
  },
  {
   "cell_type": "code",
   "execution_count": 2,
   "metadata": {
    "collapsed": true
   },
   "outputs": [],
   "source": [
    "from csv import reader\n",
    "def open_file(file, header=True):\n",
    "    opened_file=open(file)\n",
    "    read_file=reader(opened_file)\n",
    "    file=list(read_file)\n",
    "    if header:\n",
    "        return file[0],file[1:]\n",
    "    else:\n",
    "        return file"
   ]
  },
  {
   "cell_type": "code",
   "execution_count": 3,
   "metadata": {
    "collapsed": false
   },
   "outputs": [],
   "source": [
    "android_header, android=open_file('googleplaystore.csv')\n",
    "ios_header, ios=open_file('AppleStore.csv')"
   ]
  },
  {
   "cell_type": "code",
   "execution_count": 4,
   "metadata": {
    "collapsed": true
   },
   "outputs": [],
   "source": [
    "def explore_data(dataset, start, end, rows_and_columns=False):\n",
    "    dataset_slice=dataset[start:end]\n",
    "    for row in dataset_slice:\n",
    "        print(row)\n",
    "        print('\\n')\n",
    "    if rows_and_columns:\n",
    "        print('Number of rows:', len(dataset))\n",
    "        print('Number of columns:', len(dataset[0]))"
   ]
  },
  {
   "cell_type": "code",
   "execution_count": 5,
   "metadata": {
    "collapsed": false
   },
   "outputs": [
    {
     "name": "stdout",
     "output_type": "stream",
     "text": [
      "['284882215', 'Facebook', '389879808', 'USD', '0.0', '2974676', '212', '3.5', '3.5', '95.0', '4+', 'Social Networking', '37', '1', '29', '1']\n",
      "\n",
      "\n",
      "['389801252', 'Instagram', '113954816', 'USD', '0.0', '2161558', '1289', '4.5', '4.0', '10.23', '12+', 'Photo & Video', '37', '0', '29', '1']\n",
      "\n",
      "\n",
      "['529479190', 'Clash of Clans', '116476928', 'USD', '0.0', '2130805', '579', '4.5', '4.5', '9.24.12', '9+', 'Games', '38', '5', '18', '1']\n",
      "\n",
      "\n",
      "Number of rows: 7197\n",
      "Number of columns: 16\n"
     ]
    }
   ],
   "source": [
    "explore_data(ios,0,3, True)"
   ]
  },
  {
   "cell_type": "code",
   "execution_count": 6,
   "metadata": {
    "collapsed": false
   },
   "outputs": [
    {
     "name": "stdout",
     "output_type": "stream",
     "text": [
      "['Photo Editor & Candy Camera & Grid & ScrapBook', 'ART_AND_DESIGN', '4.1', '159', '19M', '10,000+', 'Free', '0', 'Everyone', 'Art & Design', 'January 7, 2018', '1.0.0', '4.0.3 and up']\n",
      "\n",
      "\n",
      "['Coloring book moana', 'ART_AND_DESIGN', '3.9', '967', '14M', '500,000+', 'Free', '0', 'Everyone', 'Art & Design;Pretend Play', 'January 15, 2018', '2.0.0', '4.0.3 and up']\n",
      "\n",
      "\n",
      "['U Launcher Lite – FREE Live Cool Themes, Hide Apps', 'ART_AND_DESIGN', '4.7', '87510', '8.7M', '5,000,000+', 'Free', '0', 'Everyone', 'Art & Design', 'August 1, 2018', '1.2.4', '4.0.3 and up']\n",
      "\n",
      "\n",
      "Number of rows: 10841\n",
      "Number of columns: 13\n"
     ]
    }
   ],
   "source": [
    "explore_data(android,0,3,True)"
   ]
  },
  {
   "cell_type": "code",
   "execution_count": 7,
   "metadata": {
    "collapsed": false
   },
   "outputs": [
    {
     "name": "stdout",
     "output_type": "stream",
     "text": [
      "['App', 'Category', 'Rating', 'Reviews', 'Size', 'Installs', 'Type', 'Price', 'Content Rating', 'Genres', 'Last Updated', 'Current Ver', 'Android Ver']\n",
      "\n",
      "\n",
      "['id', 'track_name', 'size_bytes', 'currency', 'price', 'rating_count_tot', 'rating_count_ver', 'user_rating', 'user_rating_ver', 'ver', 'cont_rating', 'prime_genre', 'sup_devices.num', 'ipadSc_urls.num', 'lang.num', 'vpp_lic']\n"
     ]
    }
   ],
   "source": [
    "print(android_header)\n",
    "print('\\n')\n",
    "print(ios_header)"
   ]
  },
  {
   "cell_type": "markdown",
   "metadata": {},
   "source": [
    "### Find mistakes"
   ]
  },
  {
   "cell_type": "code",
   "execution_count": 8,
   "metadata": {
    "collapsed": false
   },
   "outputs": [
    {
     "name": "stdout",
     "output_type": "stream",
     "text": [
      "10472\n"
     ]
    }
   ],
   "source": [
    "#1 mistake in android\n",
    "for row in android:\n",
    "    if len(row)!=len(android_header):\n",
    "        print(android.index(row))"
   ]
  },
  {
   "cell_type": "code",
   "execution_count": 9,
   "metadata": {
    "collapsed": true
   },
   "outputs": [],
   "source": [
    "#0 mistake in ios\n",
    "for row in ios:\n",
    "    if len(row)!=len(ios_header):\n",
    "        print(ios.index(row))"
   ]
  },
  {
   "cell_type": "code",
   "execution_count": 10,
   "metadata": {
    "collapsed": true
   },
   "outputs": [],
   "source": [
    "del android[10472]"
   ]
  },
  {
   "cell_type": "markdown",
   "metadata": {
    "collapsed": true
   },
   "source": [
    "Check data for duplicates in Android"
   ]
  },
  {
   "cell_type": "code",
   "execution_count": 11,
   "metadata": {
    "collapsed": false
   },
   "outputs": [
    {
     "data": {
      "text/plain": [
       "['Quick PDF Scanner + OCR FREE',\n",
       " 'Box',\n",
       " 'Google My Business',\n",
       " 'ZOOM Cloud Meetings',\n",
       " 'join.me - Simple Meetings',\n",
       " 'Box',\n",
       " 'Zenefits',\n",
       " 'Google Ads',\n",
       " 'Google My Business',\n",
       " 'Slack',\n",
       " 'FreshBooks Classic',\n",
       " 'Insightly CRM',\n",
       " 'QuickBooks Accounting: Invoicing & Expenses',\n",
       " 'HipChat - Chat Built for Teams',\n",
       " 'Xero Accounting Software']"
      ]
     },
     "execution_count": 11,
     "metadata": {},
     "output_type": "execute_result"
    }
   ],
   "source": [
    "duplicates=[]\n",
    "unique=[]\n",
    "for row in android:\n",
    "    name=row[0]\n",
    "    if name in unique:\n",
    "        duplicates.append(name)\n",
    "    else:\n",
    "        unique.append(name)\n",
    "duplicates[:15]"
   ]
  },
  {
   "cell_type": "markdown",
   "metadata": {},
   "source": [
    "Check data for duplicates in AppleStore"
   ]
  },
  {
   "cell_type": "code",
   "execution_count": 12,
   "metadata": {
    "collapsed": false
   },
   "outputs": [
    {
     "data": {
      "text/plain": [
       "[]"
      ]
     },
     "execution_count": 12,
     "metadata": {},
     "output_type": "execute_result"
    }
   ],
   "source": [
    "duplicates=[]\n",
    "unique=[]\n",
    "for row in ios:\n",
    "    name=row[0]\n",
    "    if name in unique:\n",
    "        duplicates.append(name)\n",
    "    else:\n",
    "        unique.append(name)\n",
    "duplicates[:15]"
   ]
  },
  {
   "cell_type": "markdown",
   "metadata": {},
   "source": [
    "Data from GoogleStore has some duplicates, we won't remove the duplicates randomly but we should make a criteria to save one row. Let's have a look at one duplicate"
   ]
  },
  {
   "cell_type": "code",
   "execution_count": 13,
   "metadata": {
    "collapsed": false
   },
   "outputs": [
    {
     "name": "stdout",
     "output_type": "stream",
     "text": [
      "['Slack', 'BUSINESS', '4.4', '51507', 'Varies with device', '5,000,000+', 'Free', '0', 'Everyone', 'Business', 'August 2, 2018', 'Varies with device', 'Varies with device']\n",
      "['Slack', 'BUSINESS', '4.4', '51507', 'Varies with device', '5,000,000+', 'Free', '0', 'Everyone', 'Business', 'August 2, 2018', 'Varies with device', 'Varies with device']\n",
      "['Slack', 'BUSINESS', '4.4', '51510', 'Varies with device', '5,000,000+', 'Free', '0', 'Everyone', 'Business', 'August 2, 2018', 'Varies with device', 'Varies with device']\n"
     ]
    }
   ],
   "source": [
    "for app in android:\n",
    "    name=app[0]\n",
    "    if name=='Slack':\n",
    "        print(app)"
   ]
  },
  {
   "cell_type": "markdown",
   "metadata": {},
   "source": [
    "The only difference is in 4 column: the number of reviews, let's save the row with the highest number of reviews.\n",
    "Firstly, we'll build a dictionary where:\n",
    "\n",
    "   * key - name of app\n",
    "   * value - maximum of number of reviews"
   ]
  },
  {
   "cell_type": "code",
   "execution_count": 14,
   "metadata": {
    "collapsed": false
   },
   "outputs": [
    {
     "data": {
      "text/plain": [
       "9659"
      ]
     },
     "execution_count": 14,
     "metadata": {},
     "output_type": "execute_result"
    }
   ],
   "source": [
    "reviews_max={}\n",
    "for row in android:\n",
    "    name=row[0]\n",
    "    n_reviews=float(row[3])\n",
    "    if name in reviews_max:\n",
    "        reviews_max[name]=max(reviews_max[name],n_reviews)\n",
    "    else:\n",
    "        reviews_max[name]=n_reviews\n",
    "len(reviews_max)"
   ]
  },
  {
   "cell_type": "markdown",
   "metadata": {},
   "source": [
    "Check for one app if everything is correct"
   ]
  },
  {
   "cell_type": "code",
   "execution_count": 15,
   "metadata": {
    "collapsed": false
   },
   "outputs": [
    {
     "data": {
      "text/plain": [
       "51510.0"
      ]
     },
     "execution_count": 15,
     "metadata": {},
     "output_type": "execute_result"
    }
   ],
   "source": [
    "reviews_max['Slack']"
   ]
  },
  {
   "cell_type": "markdown",
   "metadata": {},
   "source": [
    "Now we'll make clean dataset but we have to consider that there can be several lines with the same number of reviews, in this case we need only one, so for ceckout such apps we need to create a massive 'already_added'"
   ]
  },
  {
   "cell_type": "code",
   "execution_count": 16,
   "metadata": {
    "collapsed": false
   },
   "outputs": [
    {
     "data": {
      "text/plain": [
       "9659"
      ]
     },
     "execution_count": 16,
     "metadata": {},
     "output_type": "execute_result"
    }
   ],
   "source": [
    "android_clean=[]\n",
    "already_added=[]\n",
    "for row in android:\n",
    "    name=row[0]\n",
    "    n_reviews=float(row[3])\n",
    "    if reviews_max[name]==n_reviews and (name not in already_added):\n",
    "        android_clean.append(row)\n",
    "        already_added.append(name)\n",
    "len(android_clean)"
   ]
  },
  {
   "cell_type": "markdown",
   "metadata": {},
   "source": [
    "Let's check that now data does not contain duplicates"
   ]
  },
  {
   "cell_type": "code",
   "execution_count": 17,
   "metadata": {
    "collapsed": false
   },
   "outputs": [
    {
     "name": "stdout",
     "output_type": "stream",
     "text": [
      "['Photo Editor & Candy Camera & Grid & ScrapBook', 'ART_AND_DESIGN', '4.1', '159', '19M', '10,000+', 'Free', '0', 'Everyone', 'Art & Design', 'January 7, 2018', '1.0.0', '4.0.3 and up']\n",
      "\n",
      "\n",
      "['U Launcher Lite – FREE Live Cool Themes, Hide Apps', 'ART_AND_DESIGN', '4.7', '87510', '8.7M', '5,000,000+', 'Free', '0', 'Everyone', 'Art & Design', 'August 1, 2018', '1.2.4', '4.0.3 and up']\n",
      "\n",
      "\n",
      "['Sketch - Draw & Paint', 'ART_AND_DESIGN', '4.5', '215644', '25M', '50,000,000+', 'Free', '0', 'Teen', 'Art & Design', 'June 8, 2018', 'Varies with device', '4.2 and up']\n",
      "\n",
      "\n",
      "['Pixel Draw - Number Art Coloring Book', 'ART_AND_DESIGN', '4.3', '967', '2.8M', '100,000+', 'Free', '0', 'Everyone', 'Art & Design;Creativity', 'June 20, 2018', '1.1', '4.4 and up']\n",
      "\n",
      "\n",
      "['Paper flowers instructions', 'ART_AND_DESIGN', '4.4', '167', '5.6M', '50,000+', 'Free', '0', 'Everyone', 'Art & Design', 'March 26, 2017', '1.0', '2.3 and up']\n",
      "\n",
      "\n",
      "Number of rows: 9659\n",
      "Number of columns: 13\n"
     ]
    }
   ],
   "source": [
    "explore_data(android_clean,0,5,True)"
   ]
  },
  {
   "cell_type": "markdown",
   "metadata": {},
   "source": [
    "Our company wants to analyze only the apps that are directed toward an English-speaking audience, so we should clean the data from apps that are not directed toward an English-speaking audience.\n",
    "\n",
    "We can solve this problem by leaving just those lines that contain English alphabet, numbers composed of digits from 0 to 9, punctuation marks (., !, ?, ;), and other symbols (+, *, /).\n",
    "\n",
    "Function ord() can help to get the corresponding number for each character\n",
    "\n",
    "All these characters that are specific to English texts are encoded using the ASCII standard. Each ASCII character has a corresponding number between 0 and 127 associated with it, and we can take advantage of that to build a function that checks an app name and tells us whether it contains non-ASCII characters."
   ]
  },
  {
   "cell_type": "markdown",
   "metadata": {},
   "source": [
    "Make a function that returns False if any of characters in string contain non-English symbol, else return True"
   ]
  },
  {
   "cell_type": "code",
   "execution_count": 18,
   "metadata": {
    "collapsed": false
   },
   "outputs": [
    {
     "name": "stdout",
     "output_type": "stream",
     "text": [
      "True\n",
      "False\n",
      "False\n",
      "False\n"
     ]
    }
   ],
   "source": [
    "def is_english(string):\n",
    "    for character in string:\n",
    "        if ord(character)>127:\n",
    "            return False\n",
    "    return True\n",
    "print (is_english('Instagram'))\n",
    "print (is_english('爱奇艺PPS -《欢乐颂2》电视剧热播'))\n",
    "print (is_english('Docs To Go™ Free Office Suite'))\n",
    "print (is_english('Instachat 😜'))"
   ]
  },
  {
   "cell_type": "markdown",
   "metadata": {},
   "source": [
    "The strange symbols like 😜 and ™ are out of ASCII so to minimize the impact of data loss we will only remove an app if its name has more than three non-ASCII characters:"
   ]
  },
  {
   "cell_type": "code",
   "execution_count": 19,
   "metadata": {
    "collapsed": false
   },
   "outputs": [
    {
     "name": "stdout",
     "output_type": "stream",
     "text": [
      "True\n",
      "False\n",
      "True\n",
      "True\n"
     ]
    }
   ],
   "source": [
    "def is_english(string):\n",
    "    n=0\n",
    "    for character in string:\n",
    "        if ord(character)>127:\n",
    "            n+=1\n",
    "    if n>3:\n",
    "        return False\n",
    "    else:\n",
    "        return True\n",
    "print (is_english('Instagram'))\n",
    "print (is_english('爱奇艺PPS -《欢乐颂2》电视剧热播'))\n",
    "print (is_english('Docs To Go™ Free Office Suite'))\n",
    "print (is_english('Instachat 😜'))"
   ]
  },
  {
   "cell_type": "markdown",
   "metadata": {},
   "source": [
    "Let's apply the function to our dataset"
   ]
  },
  {
   "cell_type": "code",
   "execution_count": 20,
   "metadata": {
    "collapsed": false
   },
   "outputs": [
    {
     "name": "stdout",
     "output_type": "stream",
     "text": [
      "The number of Android English applications in relation to all applications: 0.887 \n",
      "Number of applications: 9614\n",
      "The number of IOS English applications in relation to all applications: 0.57 \n",
      "Number of applications: 6183\n"
     ]
    }
   ],
   "source": [
    "english_android=[]\n",
    "english_ios=[]\n",
    "for row in android_clean:\n",
    "    name=row[0]\n",
    "    if is_english(name):\n",
    "        english_android.append(row)\n",
    "for row in ios:\n",
    "    name=row[1]\n",
    "    if is_english(name):\n",
    "        english_ios.append(row)\n",
    "print ('The number of Android English applications in relation to all applications:',\n",
    "       round(len(english_android)/len(android),3),\n",
    "       '\\nNumber of applications:',len(english_android))\n",
    "print ('The number of IOS English applications in relation to all applications:',\n",
    "       round(len(english_ios)/len(android),3),\n",
    "       '\\nNumber of applications:',len(english_ios))"
   ]
  },
  {
   "cell_type": "markdown",
   "metadata": {},
   "source": [
    "About half pf apllications in ios dataset are not English (due to their titles)\n",
    "\n",
    "Now we will work with two new data sets which contain only English apps"
   ]
  },
  {
   "cell_type": "markdown",
   "metadata": {},
   "source": [
    "In next step we will isolate only free apps for our analysis"
   ]
  },
  {
   "cell_type": "code",
   "execution_count": 21,
   "metadata": {
    "collapsed": false
   },
   "outputs": [
    {
     "name": "stdout",
     "output_type": "stream",
     "text": [
      "Free Android applications among the English applications: 0.922 \n",
      "Number of free applications: 8864\n",
      "Free Android applications among the English applications: 0.521 \n",
      "Number of free applications: 3222\n"
     ]
    }
   ],
   "source": [
    "import re\n",
    "android_final=[]\n",
    "ios_final=[]\n",
    "for row in english_android:\n",
    "    price=float(re.sub(\"[^\\d\\.]\",\"\",row[7]))\n",
    "    if price==0:\n",
    "        android_final.append(row)\n",
    "for row in english_ios:\n",
    "    price=float(re.sub(\"[^\\d\\.]\",\"\",row[4]))\n",
    "    if price==0:\n",
    "        ios_final.append(row)\n",
    "print ('Free Android applications among the English applications:',\n",
    "       round(len(android_final)/len(english_android),3),\n",
    "       '\\nNumber of free applications:',len(android_final))\n",
    "print ('Free Android applications among the English applications:',\n",
    "       round(len(ios_final)/len(english_ios),3),\n",
    "       '\\nNumber of free applications:',len(ios_final))"
   ]
  },
  {
   "cell_type": "markdown",
   "metadata": {},
   "source": [
    "Now after cleaning the data we are ready to start analyze data\n",
    "## Data analysis"
   ]
  },
  {
   "cell_type": "markdown",
   "metadata": {},
   "source": [
    "Our aim as future developers is to determine the kinds of apps that are likely to attract more users"
   ]
  },
  {
   "cell_type": "markdown",
   "metadata": {},
   "source": [
    "To minimize risks and overhead, our validation strategy for an app idea is comprised of three steps:\n",
    "\n",
    "  * Build a minimal Android version of the app, and add it to Google Play.\n",
    "  * If the app has a good response from users, we develop it further.\n",
    "  * If the app is profitable after six months, we build an iOS version of the app and add it to the App Store.\n",
    "\n",
    "Because our end goal is to add the app on both Google Play and the App Store, we need to find app profiles that are successful on both markets. For instance, a profile that works well for both markets might be a productivity app that makes use of gamification."
   ]
  },
  {
   "cell_type": "markdown",
   "metadata": {},
   "source": [
    "Let's inspect both data sets to identify what columns we will use to generate frequency tables"
   ]
  },
  {
   "cell_type": "code",
   "execution_count": 22,
   "metadata": {
    "collapsed": false
   },
   "outputs": [
    {
     "data": {
      "text/html": [
       "<div>\n",
       "<style scoped>\n",
       "    .dataframe tbody tr th:only-of-type {\n",
       "        vertical-align: middle;\n",
       "    }\n",
       "\n",
       "    .dataframe tbody tr th {\n",
       "        vertical-align: top;\n",
       "    }\n",
       "\n",
       "    .dataframe thead th {\n",
       "        text-align: right;\n",
       "    }\n",
       "</style>\n",
       "<table border=\"1\" class=\"dataframe\">\n",
       "  <thead>\n",
       "    <tr style=\"text-align: right;\">\n",
       "      <th></th>\n",
       "      <th>0</th>\n",
       "    </tr>\n",
       "  </thead>\n",
       "  <tbody>\n",
       "    <tr>\n",
       "      <th>App</th>\n",
       "      <td>Photo Editor &amp; Candy Camera &amp; Grid &amp; ScrapBook</td>\n",
       "    </tr>\n",
       "    <tr>\n",
       "      <th>Category</th>\n",
       "      <td>ART_AND_DESIGN</td>\n",
       "    </tr>\n",
       "    <tr>\n",
       "      <th>Rating</th>\n",
       "      <td>4.1</td>\n",
       "    </tr>\n",
       "    <tr>\n",
       "      <th>Reviews</th>\n",
       "      <td>159</td>\n",
       "    </tr>\n",
       "    <tr>\n",
       "      <th>Size</th>\n",
       "      <td>19M</td>\n",
       "    </tr>\n",
       "    <tr>\n",
       "      <th>Installs</th>\n",
       "      <td>10,000+</td>\n",
       "    </tr>\n",
       "    <tr>\n",
       "      <th>Type</th>\n",
       "      <td>Free</td>\n",
       "    </tr>\n",
       "    <tr>\n",
       "      <th>Price</th>\n",
       "      <td>0</td>\n",
       "    </tr>\n",
       "    <tr>\n",
       "      <th>Content Rating</th>\n",
       "      <td>Everyone</td>\n",
       "    </tr>\n",
       "    <tr>\n",
       "      <th>Genres</th>\n",
       "      <td>Art &amp; Design</td>\n",
       "    </tr>\n",
       "    <tr>\n",
       "      <th>Last Updated</th>\n",
       "      <td>January 7, 2018</td>\n",
       "    </tr>\n",
       "    <tr>\n",
       "      <th>Current Ver</th>\n",
       "      <td>1.0.0</td>\n",
       "    </tr>\n",
       "    <tr>\n",
       "      <th>Android Ver</th>\n",
       "      <td>4.0.3 and up</td>\n",
       "    </tr>\n",
       "  </tbody>\n",
       "</table>\n",
       "</div>"
      ],
      "text/plain": [
       "                                                             0\n",
       "App             Photo Editor & Candy Camera & Grid & ScrapBook\n",
       "Category                                        ART_AND_DESIGN\n",
       "Rating                                                     4.1\n",
       "Reviews                                                    159\n",
       "Size                                                       19M\n",
       "Installs                                               10,000+\n",
       "Type                                                      Free\n",
       "Price                                                        0\n",
       "Content Rating                                        Everyone\n",
       "Genres                                            Art & Design\n",
       "Last Updated                                   January 7, 2018\n",
       "Current Ver                                              1.0.0\n",
       "Android Ver                                       4.0.3 and up"
      ]
     },
     "execution_count": 22,
     "metadata": {},
     "output_type": "execute_result"
    }
   ],
   "source": [
    "import pandas as pd\n",
    "pd.DataFrame(android_final,columns=android_header).head(1).transpose()"
   ]
  },
  {
   "cell_type": "markdown",
   "metadata": {},
   "source": [
    "Possible analysis:\n",
    "  1.  To look at apps with highest rating categorized as Genres, Size\n",
    "  2.  To look at number of installs and reviews with the same categories\n",
    "\n",
    "But first we should find out what the most popular genres"
   ]
  },
  {
   "cell_type": "code",
   "execution_count": 23,
   "metadata": {
    "collapsed": false
   },
   "outputs": [
    {
     "data": {
      "text/html": [
       "<div>\n",
       "<style scoped>\n",
       "    .dataframe tbody tr th:only-of-type {\n",
       "        vertical-align: middle;\n",
       "    }\n",
       "\n",
       "    .dataframe tbody tr th {\n",
       "        vertical-align: top;\n",
       "    }\n",
       "\n",
       "    .dataframe thead th {\n",
       "        text-align: right;\n",
       "    }\n",
       "</style>\n",
       "<table border=\"1\" class=\"dataframe\">\n",
       "  <thead>\n",
       "    <tr style=\"text-align: right;\">\n",
       "      <th></th>\n",
       "      <th>0</th>\n",
       "    </tr>\n",
       "  </thead>\n",
       "  <tbody>\n",
       "    <tr>\n",
       "      <th>id</th>\n",
       "      <td>284882215</td>\n",
       "    </tr>\n",
       "    <tr>\n",
       "      <th>track_name</th>\n",
       "      <td>Facebook</td>\n",
       "    </tr>\n",
       "    <tr>\n",
       "      <th>size_bytes</th>\n",
       "      <td>389879808</td>\n",
       "    </tr>\n",
       "    <tr>\n",
       "      <th>currency</th>\n",
       "      <td>USD</td>\n",
       "    </tr>\n",
       "    <tr>\n",
       "      <th>price</th>\n",
       "      <td>0.0</td>\n",
       "    </tr>\n",
       "    <tr>\n",
       "      <th>rating_count_tot</th>\n",
       "      <td>2974676</td>\n",
       "    </tr>\n",
       "    <tr>\n",
       "      <th>rating_count_ver</th>\n",
       "      <td>212</td>\n",
       "    </tr>\n",
       "    <tr>\n",
       "      <th>user_rating</th>\n",
       "      <td>3.5</td>\n",
       "    </tr>\n",
       "    <tr>\n",
       "      <th>user_rating_ver</th>\n",
       "      <td>3.5</td>\n",
       "    </tr>\n",
       "    <tr>\n",
       "      <th>ver</th>\n",
       "      <td>95.0</td>\n",
       "    </tr>\n",
       "    <tr>\n",
       "      <th>cont_rating</th>\n",
       "      <td>4+</td>\n",
       "    </tr>\n",
       "    <tr>\n",
       "      <th>prime_genre</th>\n",
       "      <td>Social Networking</td>\n",
       "    </tr>\n",
       "    <tr>\n",
       "      <th>sup_devices.num</th>\n",
       "      <td>37</td>\n",
       "    </tr>\n",
       "    <tr>\n",
       "      <th>ipadSc_urls.num</th>\n",
       "      <td>1</td>\n",
       "    </tr>\n",
       "    <tr>\n",
       "      <th>lang.num</th>\n",
       "      <td>29</td>\n",
       "    </tr>\n",
       "    <tr>\n",
       "      <th>vpp_lic</th>\n",
       "      <td>1</td>\n",
       "    </tr>\n",
       "  </tbody>\n",
       "</table>\n",
       "</div>"
      ],
      "text/plain": [
       "                                  0\n",
       "id                        284882215\n",
       "track_name                 Facebook\n",
       "size_bytes                389879808\n",
       "currency                        USD\n",
       "price                           0.0\n",
       "rating_count_tot            2974676\n",
       "rating_count_ver                212\n",
       "user_rating                     3.5\n",
       "user_rating_ver                 3.5\n",
       "ver                            95.0\n",
       "cont_rating                      4+\n",
       "prime_genre       Social Networking\n",
       "sup_devices.num                  37\n",
       "ipadSc_urls.num                   1\n",
       "lang.num                         29\n",
       "vpp_lic                           1"
      ]
     },
     "execution_count": 23,
     "metadata": {},
     "output_type": "execute_result"
    }
   ],
   "source": [
    "pd.DataFrame(ios_final,columns=ios_header).head(1).transpose()"
   ]
  },
  {
   "cell_type": "markdown",
   "metadata": {},
   "source": [
    "To see the most common app genres we need to make function that will return frequency of the given variable, the frequency will be returned as percentages"
   ]
  },
  {
   "cell_type": "code",
   "execution_count": 24,
   "metadata": {
    "collapsed": true
   },
   "outputs": [],
   "source": [
    "def freq_table(dataset,index):\n",
    "    freq_dict={}\n",
    "    for row in dataset:\n",
    "        key=row[index]\n",
    "        if key in freq_dict:\n",
    "            freq_dict[key]+=1\n",
    "        else:\n",
    "            freq_dict[key]=1\n",
    "    for i in freq_dict:\n",
    "        freq_dict[i]=round(freq_dict[i]*100/len(dataset),3)\n",
    "    return freq_dict"
   ]
  },
  {
   "cell_type": "markdown",
   "metadata": {},
   "source": [
    "Check sum of frequencies in table for genres in Android apps:"
   ]
  },
  {
   "cell_type": "code",
   "execution_count": 25,
   "metadata": {
    "collapsed": false
   },
   "outputs": [
    {
     "data": {
      "text/plain": [
       "99.99300000000001"
      ]
     },
     "execution_count": 25,
     "metadata": {},
     "output_type": "execute_result"
    }
   ],
   "source": [
    "sum=0\n",
    "and_genr=freq_table(android_final,9)\n",
    "for i in and_genr:\n",
    "    sum+=and_genr[i]\n",
    "sum"
   ]
  },
  {
   "cell_type": "markdown",
   "metadata": {},
   "source": [
    "Because of function sorted() we need to transform our dictionary into a list of tuples and then apply the function, the sorting will work roght if dictionary value comes first, and the dictionary key comes second"
   ]
  },
  {
   "cell_type": "code",
   "execution_count": 26,
   "metadata": {
    "collapsed": true
   },
   "outputs": [],
   "source": [
    "def display_table(dataset, index):\n",
    "    table=freq_table(dataset,index)\n",
    "    table_display=[]\n",
    "    for key in table:\n",
    "        #when we write expression in (), we make a tuple\n",
    "        #table[key] will return value\n",
    "        key_value_as_tuple=(table[key],key)\n",
    "        #then make a list of tuples\n",
    "        table_display.append(key_value_as_tuple)\n",
    "        \n",
    "    table_sorted=sorted(table_display,reverse=True)\n",
    "    for entry in table_sorted:\n",
    "        print(entry[1],':',entry[0])"
   ]
  },
  {
   "cell_type": "markdown",
   "metadata": {},
   "source": [
    "### Most common genres in iOS apps:"
   ]
  },
  {
   "cell_type": "code",
   "execution_count": 27,
   "metadata": {
    "collapsed": false
   },
   "outputs": [
    {
     "name": "stdout",
     "output_type": "stream",
     "text": [
      "Games : 58.163\n",
      "Entertainment : 7.883\n",
      "Photo & Video : 4.966\n",
      "Education : 3.662\n",
      "Social Networking : 3.29\n",
      "Shopping : 2.607\n",
      "Utilities : 2.514\n",
      "Sports : 2.142\n",
      "Music : 2.048\n",
      "Health & Fitness : 2.017\n",
      "Productivity : 1.738\n",
      "Lifestyle : 1.583\n",
      "News : 1.335\n",
      "Travel : 1.241\n",
      "Finance : 1.117\n",
      "Weather : 0.869\n",
      "Food & Drink : 0.807\n",
      "Reference : 0.559\n",
      "Business : 0.528\n",
      "Book : 0.435\n",
      "Navigation : 0.186\n",
      "Medical : 0.186\n",
      "Catalogs : 0.124\n"
     ]
    }
   ],
   "source": [
    "display_table(ios_final,-5)"
   ]
  },
  {
   "cell_type": "markdown",
   "metadata": {},
   "source": [
    "It's time to draw some conclusions. As we can see the most common genre among English **free** apps in App Store are Games (more than 50%), second most common genre is Entertainment (about 8%), the third place is Photo&Video (5%) and only then Education and Social Networking.\n",
    "\n",
    "We can deduce the conclusion that most English free apps are associated with entertaiment (three most common genres - Games, Entertainment, Photo&Video together are about 70%), Social Networking, Shopping, Sports and Music we can also tie with Entertainment and there are just a little bit free English apps that are associated with practical purpose - Education, Utilities, Productivity, Lifestyle.\n",
    "\n",
    "But we should understand that these statistics tell us about the most common genres, but not the most popular - the demand might not be the same as the offer."
   ]
  },
  {
   "cell_type": "markdown",
   "metadata": {},
   "source": [
    "### Most common genres in Android apps:"
   ]
  },
  {
   "cell_type": "code",
   "execution_count": 28,
   "metadata": {
    "collapsed": false
   },
   "outputs": [
    {
     "name": "stdout",
     "output_type": "stream",
     "text": [
      "Tools : 8.45\n",
      "Entertainment : 6.069\n",
      "Education : 5.347\n",
      "Business : 4.592\n",
      "Productivity : 3.892\n",
      "Lifestyle : 3.892\n",
      "Finance : 3.7\n",
      "Medical : 3.531\n",
      "Sports : 3.463\n",
      "Personalization : 3.317\n",
      "Communication : 3.238\n",
      "Action : 3.102\n",
      "Health & Fitness : 3.08\n",
      "Photography : 2.944\n",
      "News & Magazines : 2.798\n",
      "Social : 2.662\n",
      "Travel & Local : 2.324\n",
      "Shopping : 2.245\n",
      "Books & Reference : 2.144\n",
      "Simulation : 2.042\n",
      "Dating : 1.861\n",
      "Arcade : 1.85\n",
      "Video Players & Editors : 1.771\n",
      "Casual : 1.76\n",
      "Maps & Navigation : 1.399\n",
      "Food & Drink : 1.241\n",
      "Puzzle : 1.128\n",
      "Racing : 0.993\n",
      "Role Playing : 0.936\n",
      "Libraries & Demo : 0.936\n",
      "Auto & Vehicles : 0.925\n",
      "Strategy : 0.914\n",
      "House & Home : 0.824\n",
      "Weather : 0.801\n",
      "Events : 0.711\n",
      "Adventure : 0.677\n",
      "Comics : 0.609\n",
      "Beauty : 0.598\n",
      "Art & Design : 0.598\n",
      "Parenting : 0.496\n",
      "Card : 0.451\n",
      "Casino : 0.429\n",
      "Trivia : 0.417\n",
      "Educational;Education : 0.395\n",
      "Board : 0.384\n",
      "Educational : 0.372\n",
      "Education;Education : 0.338\n",
      "Word : 0.259\n",
      "Casual;Pretend Play : 0.237\n",
      "Music : 0.203\n",
      "Racing;Action & Adventure : 0.169\n",
      "Puzzle;Brain Games : 0.169\n",
      "Entertainment;Music & Video : 0.169\n",
      "Casual;Brain Games : 0.135\n",
      "Casual;Action & Adventure : 0.135\n",
      "Arcade;Action & Adventure : 0.124\n",
      "Action;Action & Adventure : 0.102\n",
      "Educational;Pretend Play : 0.09\n",
      "Simulation;Action & Adventure : 0.079\n",
      "Parenting;Education : 0.079\n",
      "Entertainment;Brain Games : 0.079\n",
      "Board;Brain Games : 0.079\n",
      "Parenting;Music & Video : 0.068\n",
      "Educational;Brain Games : 0.068\n",
      "Casual;Creativity : 0.068\n",
      "Art & Design;Creativity : 0.068\n",
      "Education;Pretend Play : 0.056\n",
      "Role Playing;Pretend Play : 0.045\n",
      "Education;Creativity : 0.045\n",
      "Role Playing;Action & Adventure : 0.034\n",
      "Puzzle;Action & Adventure : 0.034\n",
      "Entertainment;Creativity : 0.034\n",
      "Entertainment;Action & Adventure : 0.034\n",
      "Educational;Creativity : 0.034\n",
      "Educational;Action & Adventure : 0.034\n",
      "Education;Music & Video : 0.034\n",
      "Education;Brain Games : 0.034\n",
      "Education;Action & Adventure : 0.034\n",
      "Adventure;Action & Adventure : 0.034\n",
      "Video Players & Editors;Music & Video : 0.023\n",
      "Sports;Action & Adventure : 0.023\n",
      "Simulation;Pretend Play : 0.023\n",
      "Puzzle;Creativity : 0.023\n",
      "Music;Music & Video : 0.023\n",
      "Entertainment;Pretend Play : 0.023\n",
      "Casual;Education : 0.023\n",
      "Board;Action & Adventure : 0.023\n",
      "Video Players & Editors;Creativity : 0.011\n",
      "Trivia;Education : 0.011\n",
      "Travel & Local;Action & Adventure : 0.011\n",
      "Tools;Education : 0.011\n",
      "Strategy;Education : 0.011\n",
      "Strategy;Creativity : 0.011\n",
      "Strategy;Action & Adventure : 0.011\n",
      "Simulation;Education : 0.011\n",
      "Role Playing;Brain Games : 0.011\n",
      "Racing;Pretend Play : 0.011\n",
      "Puzzle;Education : 0.011\n",
      "Parenting;Brain Games : 0.011\n",
      "Music & Audio;Music & Video : 0.011\n",
      "Lifestyle;Pretend Play : 0.011\n",
      "Lifestyle;Education : 0.011\n",
      "Health & Fitness;Education : 0.011\n",
      "Health & Fitness;Action & Adventure : 0.011\n",
      "Entertainment;Education : 0.011\n",
      "Communication;Creativity : 0.011\n",
      "Comics;Creativity : 0.011\n",
      "Casual;Music & Video : 0.011\n",
      "Card;Action & Adventure : 0.011\n",
      "Books & Reference;Education : 0.011\n",
      "Art & Design;Pretend Play : 0.011\n",
      "Art & Design;Action & Adventure : 0.011\n",
      "Arcade;Pretend Play : 0.011\n",
      "Adventure;Education : 0.011\n"
     ]
    }
   ],
   "source": [
    "display_table(android_final,9)"
   ]
  },
  {
   "cell_type": "markdown",
   "metadata": {},
   "source": [
    "The image with genres looks significantly different in Google Play: first of all, there are more genres and the difference between Category and Genres in Android dataset that Genres is more granular variable so in our future analysis we will use Category, but for now let's have a look at the current variable:\n",
    "\n",
    "There is no obvious genre that outnumbers all other genres. We can even claim that there is a balance between apps with practical purpose and apps for fun because the TOP-5 apps are associated with Tools, Entertainment, Education, Business and Productivity. "
   ]
  },
  {
   "cell_type": "markdown",
   "metadata": {},
   "source": [
    "### Most common Category in Android apps:"
   ]
  },
  {
   "cell_type": "code",
   "execution_count": 29,
   "metadata": {
    "collapsed": false
   },
   "outputs": [
    {
     "name": "stdout",
     "output_type": "stream",
     "text": [
      "FAMILY : 18.908\n",
      "GAME : 9.725\n",
      "TOOLS : 8.461\n",
      "BUSINESS : 4.592\n",
      "LIFESTYLE : 3.903\n",
      "PRODUCTIVITY : 3.892\n",
      "FINANCE : 3.7\n",
      "MEDICAL : 3.531\n",
      "SPORTS : 3.396\n",
      "PERSONALIZATION : 3.317\n",
      "COMMUNICATION : 3.238\n",
      "HEALTH_AND_FITNESS : 3.08\n",
      "PHOTOGRAPHY : 2.944\n",
      "NEWS_AND_MAGAZINES : 2.798\n",
      "SOCIAL : 2.662\n",
      "TRAVEL_AND_LOCAL : 2.335\n",
      "SHOPPING : 2.245\n",
      "BOOKS_AND_REFERENCE : 2.144\n",
      "DATING : 1.861\n",
      "VIDEO_PLAYERS : 1.794\n",
      "MAPS_AND_NAVIGATION : 1.399\n",
      "FOOD_AND_DRINK : 1.241\n",
      "EDUCATION : 1.162\n",
      "ENTERTAINMENT : 0.959\n",
      "LIBRARIES_AND_DEMO : 0.936\n",
      "AUTO_AND_VEHICLES : 0.925\n",
      "HOUSE_AND_HOME : 0.824\n",
      "WEATHER : 0.801\n",
      "EVENTS : 0.711\n",
      "PARENTING : 0.654\n",
      "ART_AND_DESIGN : 0.643\n",
      "COMICS : 0.62\n",
      "BEAUTY : 0.598\n"
     ]
    }
   ],
   "source": [
    "display_table(android_final,1)"
   ]
  },
  {
   "cell_type": "markdown",
   "metadata": {},
   "source": [
    "While analyzing the Category of apps on Google Play we can make a conclusion that it is interlinked with genres, but the most common category is Family and the second one is Game, then most of the categories are tied up with practical apps.\n",
    "\n",
    "**As a result we can come to the conclusion that on Google Play among the free English applications practical apps have a better representation compared to AppStore.**\n",
    "\n",
    "Now let's analyze kind of apps that users use the most."
   ]
  },
  {
   "cell_type": "markdown",
   "metadata": {},
   "source": [
    "In Android datset we can find this information using: `Installs`\n",
    "In iOS dataset such a variable can be: `rating_count_tot` (total number of user ratings as proxy)"
   ]
  },
  {
   "cell_type": "markdown",
   "metadata": {},
   "source": [
    "### Most popular genres in AppStore"
   ]
  },
  {
   "cell_type": "code",
   "execution_count": 30,
   "metadata": {
    "collapsed": false
   },
   "outputs": [
    {
     "name": "stdout",
     "output_type": "stream",
     "text": [
      "The average number for genre Shopping in App Store is 26919.69\n",
      "The average number for genre Catalogs in App Store is 4004.0\n",
      "The average number for genre Lifestyle in App Store is 16485.76\n",
      "The average number for genre Education in App Store is 7003.98\n",
      "The average number for genre Navigation in App Store is 86090.33\n",
      "The average number for genre Reference in App Store is 74942.11\n",
      "The average number for genre Travel in App Store is 28243.8\n",
      "The average number for genre Photo & Video in App Store is 28441.54\n",
      "The average number for genre Productivity in App Store is 21028.41\n",
      "The average number for genre Sports in App Store is 23008.9\n",
      "The average number for genre Games in App Store is 22788.67\n",
      "The average number for genre Social Networking in App Store is 71548.35\n",
      "The average number for genre Food & Drink in App Store is 33333.92\n",
      "The average number for genre Music in App Store is 57326.53\n",
      "The average number for genre Weather in App Store is 52279.89\n",
      "The average number for genre Entertainment in App Store is 14029.83\n",
      "The average number for genre Book in App Store is 39758.5\n",
      "The average number for genre Health & Fitness in App Store is 23298.02\n",
      "The average number for genre Business in App Store is 7491.12\n",
      "The average number for genre Finance in App Store is 31467.94\n",
      "The average number for genre Medical in App Store is 612.0\n",
      "The average number for genre News in App Store is 21248.02\n",
      "The average number for genre Utilities in App Store is 18684.46\n"
     ]
    }
   ],
   "source": [
    "ios_genre=freq_table(ios_final,-5)\n",
    "for genre in ios_genre:\n",
    "    total=0\n",
    "    length=0\n",
    "    for row in ios_final:\n",
    "        installs=float(row[5])\n",
    "        genre_ios=row[-5]\n",
    "        if genre_ios==genre:\n",
    "            total+=installs\n",
    "            length+=1\n",
    "    print('The average number for genre',genre,'in App Store is', round(total/length,2))"
   ]
  },
  {
   "cell_type": "markdown",
   "metadata": {},
   "source": [
    "At first glance largest number of installations has `Navigation` genre but this is due to the fact that almost every person use maps so there are so many installs of this genre. No less popular are `Reference` apps. Next most popular apps are `Music` and `Weather`, so we can hypothesize that almost every person has on his/her phone map, app that allows you to listen to the music, app for connecting with friends and some refernce app.\n",
    "\n",
    "Let's take a closer look at each kind of these genres:"
   ]
  },
  {
   "cell_type": "code",
   "execution_count": 31,
   "metadata": {
    "collapsed": false
   },
   "outputs": [
    {
     "name": "stdout",
     "output_type": "stream",
     "text": [
      "Waze - GPS Navigation, Maps & Real-time Traffic : 345046\n",
      "Google Maps - Navigation & Transit : 154911\n",
      "Geocaching® : 12811\n",
      "CoPilot GPS – Car Navigation & Offline Maps : 3582\n",
      "ImmobilienScout24: Real Estate Search in Germany : 187\n",
      "Railway Route Search : 5\n"
     ]
    }
   ],
   "source": [
    "for row in ios_final:\n",
    "    if row[-5]=='Navigation':\n",
    "        print(row[1],':',row[5])"
   ]
  },
  {
   "cell_type": "code",
   "execution_count": 32,
   "metadata": {
    "collapsed": false
   },
   "outputs": [
    {
     "name": "stdout",
     "output_type": "stream",
     "text": [
      "Pandora - Music & Radio : 1126879\n",
      "Spotify Music : 878563\n",
      "Shazam - Discover music, artists, videos & lyrics : 402925\n",
      "iHeartRadio – Free Music & Radio Stations : 293228\n",
      "SoundCloud - Music & Audio : 135744\n",
      "Magic Piano by Smule : 131695\n",
      "Smule Sing! : 119316\n",
      "TuneIn Radio - MLB NBA Audiobooks Podcasts Music : 110420\n",
      "Amazon Music : 106235\n",
      "SoundHound Song Search & Music Player : 82602\n",
      "Sonos Controller : 48905\n",
      "Bandsintown Concerts : 30845\n",
      "Karaoke - Sing Karaoke, Unlimited Songs! : 28606\n",
      "My Mixtapez Music : 26286\n",
      "Sing Karaoke Songs Unlimited with StarMaker : 26227\n",
      "Ringtones for iPhone & Ringtone Maker : 25403\n",
      "Musi - Unlimited Music For YouTube : 25193\n",
      "AutoRap by Smule : 18202\n",
      "Spinrilla - Mixtapes For Free : 15053\n",
      "Napster - Top Music & Radio : 14268\n",
      "edjing Mix:DJ turntable to remix and scratch music : 13580\n",
      "Free Music - MP3 Streamer & Playlist Manager Pro : 13443\n",
      "Free Piano app by Yokee : 13016\n",
      "Google Play Music : 10118\n",
      "Certified Mixtapes - Hip Hop Albums & Mixtapes : 9975\n",
      "TIDAL : 7398\n",
      "YouTube Music : 7109\n",
      "Nicki Minaj: The Empire : 5196\n",
      "Sounds app - Music And Friends : 5126\n",
      "SongFlip - Free Music Streamer : 5004\n",
      "Simple Radio - Live AM & FM Radio Stations : 4787\n",
      "Deezer - Listen to your Favorite Music & Playlists : 4677\n",
      "Ringtones for iPhone with Ringtone Maker : 4013\n",
      "Bose SoundTouch : 3687\n",
      "Amazon Alexa : 3018\n",
      "DatPiff : 2815\n",
      "Trebel Music - Unlimited Music Downloader : 2570\n",
      "Free Music Play - Mp3 Streamer & Player : 2496\n",
      "Acapella from PicPlayPost : 2487\n",
      "Coach Guitar - Lessons & Easy Tabs For Beginners : 2416\n",
      "Musicloud - MP3 and FLAC Music Player for Cloud Platforms. : 2211\n",
      "Piano - Play Keyboard Music Games with Magic Tiles : 1636\n",
      "Boom: Best Equalizer & Magical Surround Sound : 1375\n",
      "Music Freedom - Unlimited Free MP3 Music Streaming : 1246\n",
      "AmpMe - A Portable Social Party Music Speaker : 1047\n",
      "Medly - Music Maker : 933\n",
      "Bose Connect : 915\n",
      "Music Memos : 909\n",
      "UE BOOM : 612\n",
      "LiveMixtapes : 555\n",
      "NOISE : 355\n",
      "MP3 Music Player & Streamer for Clouds : 329\n",
      "Musical Video Maker - Create Music clips lip sync : 320\n",
      "Cloud Music Player - Downloader & Playlist Manager : 319\n",
      "Remixlive - Remix loops with pads : 288\n",
      "QQ音乐HD : 224\n",
      "Blocs Wave - Make & Record Music : 158\n",
      "PlayGround • Music At Your Fingertips : 150\n",
      "Music and Chill : 135\n",
      "The Singing Machine Mobile Karaoke App : 130\n",
      "radio.de - Der Radioplayer : 64\n",
      "Free Music -  Player & Streamer  for Dropbox, OneDrive & Google Drive : 46\n",
      "NRJ Radio : 38\n",
      "Smart Music: Streaming Videos and Radio : 17\n",
      "BOSS Tuner : 13\n",
      "PetitLyrics : 0\n"
     ]
    }
   ],
   "source": [
    "for row in ios_final:\n",
    "    if row[-5]=='Music':\n",
    "        print(row[1],':',row[5])"
   ]
  },
  {
   "cell_type": "code",
   "execution_count": 33,
   "metadata": {
    "collapsed": false
   },
   "outputs": [
    {
     "name": "stdout",
     "output_type": "stream",
     "text": [
      "The Weather Channel: Forecast, Radar & Alerts : 495626\n",
      "The Weather Channel App for iPad – best local forecast, radar map, and storm tracking : 208648\n",
      "WeatherBug - Local Weather, Radar, Maps, Alerts : 188583\n",
      "MyRadar NOAA Weather Radar Forecast : 150158\n",
      "AccuWeather - Weather for Life : 144214\n",
      "Yahoo Weather : 112603\n",
      "Weather Underground: Custom Forecast & Local Radar : 49192\n",
      "NOAA Weather Radar - Weather Forecast & HD Radar : 45696\n",
      "Weather Live Free - Weather Forecast & Alerts : 35702\n",
      "Storm Radar : 22792\n",
      "QuakeFeed Earthquake Map, Alerts, and News : 6081\n",
      "Moji Weather - Free Weather Forecast : 2333\n",
      "Hurricane by American Red Cross : 1158\n",
      "Forecast Bar : 375\n",
      "Hurricane Tracker WESH 2 Orlando, Central Florida : 203\n",
      "FEMA : 128\n",
      "iWeather - World weather forecast : 80\n",
      "Weather - Radar - Storm with Morecast App : 78\n",
      "Yurekuru Call : 53\n",
      "Weather & Radar : 37\n",
      "WRAL Weather Alert : 25\n",
      "Météo-France : 24\n",
      "JaxReady : 22\n",
      "Freddy the Frogcaster's Weather Station : 14\n",
      "Almanac Long-Range Weather Forecast : 12\n",
      "TodayAir : 0\n",
      "wetter.com : 0\n",
      "WarnWetter : 0\n"
     ]
    }
   ],
   "source": [
    "for row in ios_final:\n",
    "    if row[-5]=='Weather':\n",
    "        print(row[1],':',row[5])"
   ]
  },
  {
   "cell_type": "markdown",
   "metadata": {},
   "source": [
    "So apps with largest number of installs are tied up with weather (The Weather Channel), with music (Pandora - Music & Radio, Spotify) and with navigation (Waze, Google Maps) but we can't be sure that they are most popular because average number of installs can be skewed by very few apps - giants in this area which have hundreds of thousands of user installs, while the other apps may struggle to get past the 10,000 threshold.\n",
    "\n",
    "Next genre in number of installs is `Reference`, let's have a look at these apps to see if it is skewed by one or two apps like previous genres or not."
   ]
  },
  {
   "cell_type": "code",
   "execution_count": 34,
   "metadata": {
    "collapsed": false
   },
   "outputs": [
    {
     "name": "stdout",
     "output_type": "stream",
     "text": [
      "Bible : 985920\n",
      "Dictionary.com Dictionary & Thesaurus : 200047\n",
      "Dictionary.com Dictionary & Thesaurus for iPad : 54175\n",
      "Google Translate : 26786\n",
      "Muslim Pro: Ramadan 2017 Prayer Times, Azan, Quran : 18418\n",
      "New Furniture Mods - Pocket Wiki & Game Tools for Minecraft PC Edition : 17588\n",
      "Merriam-Webster Dictionary : 16849\n",
      "Night Sky : 12122\n",
      "City Maps for Minecraft PE - The Best Maps for Minecraft Pocket Edition (MCPE) : 8535\n",
      "LUCKY BLOCK MOD ™ for Minecraft PC Edition - The Best Pocket Wiki & Mods Installer Tools : 4693\n",
      "GUNS MODS for Minecraft PC Edition - Mods Tools : 1497\n",
      "Guides for Pokémon GO - Pokemon GO News and Cheats : 826\n",
      "WWDC : 762\n",
      "Horror Maps for Minecraft PE - Download The Scariest Maps for Minecraft Pocket Edition (MCPE) Free : 718\n",
      "VPN Express : 14\n",
      "Real Bike Traffic Rider Virtual Reality Glasses : 8\n",
      "教えて!goo : 0\n",
      "Jishokun-Japanese English Dictionary & Translator : 0\n"
     ]
    }
   ],
   "source": [
    "for row in ios_final:\n",
    "    if row[-5]=='Reference':\n",
    "        print(row[1],':',row[5])"
   ]
  },
  {
   "cell_type": "markdown",
   "metadata": {},
   "source": [
    "As we can see most of downloads came from apps **Bible** and **Dictionary.com** so they skewed up the statistics in this genre too. However, we can think about this niche like a prospect for our future app. For example, we can develop app where people can read and see meanings of the word simultaneously. Or we can add a feature of listening the book.\n",
    "\n",
    "After analyzing the AppStore we came to conclusion that majority of applications are made for fun, but most installs have apps with different genre, maybe we can try to integrate different areas or make brand new feature, for example, in dictionary *search for words using voice recording*."
   ]
  },
  {
   "cell_type": "markdown",
   "metadata": {},
   "source": [
    "Let's analyze apps on Google Play:"
   ]
  },
  {
   "cell_type": "markdown",
   "metadata": {},
   "source": [
    "### Most popular genres in Google Play"
   ]
  },
  {
   "cell_type": "markdown",
   "metadata": {},
   "source": [
    "To analyze popularity of apps on Google Play we will use number of installs, but it doesn't have precise number, instead of them there are thresholds. However, for briefly analysis it will be enough. Firstly, we need to remove pluses and other symbols."
   ]
  },
  {
   "cell_type": "code",
   "execution_count": 44,
   "metadata": {
    "collapsed": false
   },
   "outputs": [
    {
     "name": "stdout",
     "output_type": "stream",
     "text": [
      "COMMUNICATION : 38456119.17\n",
      "VIDEO_PLAYERS : 24727872.45\n",
      "SOCIAL : 23253652.13\n",
      "PHOTOGRAPHY : 17840110.4\n",
      "PRODUCTIVITY : 16787331.34\n",
      "GAME : 15588015.6\n",
      "TRAVEL_AND_LOCAL : 13984077.71\n",
      "ENTERTAINMENT : 11640705.88\n",
      "TOOLS : 10801391.3\n",
      "NEWS_AND_MAGAZINES : 9549178.47\n",
      "BOOKS_AND_REFERENCE : 8767811.89\n",
      "SHOPPING : 7036877.31\n",
      "PERSONALIZATION : 5201482.61\n",
      "WEATHER : 5074486.2\n",
      "HEALTH_AND_FITNESS : 4188821.99\n",
      "MAPS_AND_NAVIGATION : 4056941.77\n",
      "FAMILY : 3695641.82\n",
      "SPORTS : 3638640.14\n",
      "ART_AND_DESIGN : 1986335.09\n",
      "FOOD_AND_DRINK : 1924897.74\n",
      "EDUCATION : 1833495.15\n",
      "BUSINESS : 1712290.15\n",
      "LIFESTYLE : 1437816.27\n",
      "FINANCE : 1387692.48\n",
      "HOUSE_AND_HOME : 1331540.56\n",
      "DATING : 854028.83\n",
      "COMICS : 817657.27\n",
      "AUTO_AND_VEHICLES : 647317.82\n",
      "LIBRARIES_AND_DEMO : 638503.73\n",
      "PARENTING : 542603.62\n",
      "BEAUTY : 513151.89\n",
      "EVENTS : 253542.22\n",
      "MEDICAL : 120550.62\n"
     ]
    }
   ],
   "source": [
    "category_android=freq_table(android_final,1)\n",
    "category=[]\n",
    "for cat in category_android:\n",
    "    total=0\n",
    "    length=0\n",
    "    for row in android_final:\n",
    "        if cat==row[1]:\n",
    "            inst=row[5].replace(',','')\n",
    "            inst=float(inst.replace('+',''))\n",
    "            total+=inst\n",
    "            length+=1\n",
    "    category.append((round(total/length,2),cat))\n",
    "table_sorted=sorted(category,reverse=True)\n",
    "for entry in table_sorted:\n",
    "    print(entry[1],':',entry[0])\n",
    "    #print('The average number of',cat,'in Google Play is', round(total/length,2))"
   ]
  },
  {
   "cell_type": "markdown",
   "metadata": {},
   "source": [
    "The most downloads have `Communication`, `Video Players`, `Social`, `Photography` and `Productivity`, we' re gonna take a closer look at them"
   ]
  },
  {
   "cell_type": "code",
   "execution_count": 71,
   "metadata": {
    "collapsed": false
   },
   "outputs": [
    {
     "name": "stdout",
     "output_type": "stream",
     "text": [
      "1,000,000+ : 15.727\n",
      "100,000+ : 11.552\n",
      "10,000,000+ : 10.548\n",
      "10,000+ : 10.199\n",
      "1,000+ : 8.394\n",
      "100+ : 6.916\n",
      "5,000,000+ : 6.825\n",
      "500,000+ : 5.562\n",
      "50,000+ : 4.772\n",
      "5,000+ : 4.513\n",
      "10+ : 3.542\n",
      "500+ : 3.249\n",
      "50,000,000+ : 2.301\n",
      "100,000,000+ : 2.132\n",
      "50+ : 1.918\n",
      "5+ : 0.79\n",
      "1+ : 0.508\n",
      "500,000,000+ : 0.271\n",
      "1,000,000,000+ : 0.226\n",
      "0+ : 0.045\n",
      "0 : 0.011\n"
     ]
    }
   ],
   "source": [
    "display_table(android_final,5)"
   ]
  },
  {
   "cell_type": "code",
   "execution_count": 54,
   "metadata": {
    "collapsed": false
   },
   "outputs": [
    {
     "name": "stdout",
     "output_type": "stream",
     "text": [
      "WhatsApp Messenger : 1,000,000,000+\n",
      "Messenger – Text and Video Chat for Free : 1,000,000,000+\n",
      "Skype - free IM & video calls : 1,000,000,000+\n",
      "Google Chrome: Fast & Secure : 1,000,000,000+\n",
      "Gmail : 1,000,000,000+\n",
      "Hangouts : 1,000,000,000+\n"
     ]
    }
   ],
   "source": [
    "for row in android_final:\n",
    "    if row[1]=='COMMUNICATION' and (row[5]=='1,000,000,000+'):\n",
    "        print(row[0], ':', row[5])"
   ]
  },
  {
   "cell_type": "markdown",
   "metadata": {},
   "source": [
    "Statistics for `COMMUNICATION` category are skewed up by such giants as WhatsApp, Skype and othere Messengers, there's no point in taking up this niche."
   ]
  },
  {
   "cell_type": "code",
   "execution_count": 58,
   "metadata": {
    "collapsed": false
   },
   "outputs": [
    {
     "name": "stdout",
     "output_type": "stream",
     "text": [
      "YouTube : 1,000,000,000+\n",
      "Google Play Movies & TV : 1,000,000,000+\n"
     ]
    }
   ],
   "source": [
    "for row in android_final:\n",
    "    if row[1]=='VIDEO_PLAYERS' and (row[5]=='1,000,000,000+'):\n",
    "        print(row[0], ':', row[5])"
   ]
  },
  {
   "cell_type": "code",
   "execution_count": 59,
   "metadata": {
    "collapsed": false
   },
   "outputs": [
    {
     "name": "stdout",
     "output_type": "stream",
     "text": [
      "Facebook : 1,000,000,000+\n",
      "Google+ : 1,000,000,000+\n",
      "Instagram : 1,000,000,000+\n"
     ]
    }
   ],
   "source": [
    "for row in android_final:\n",
    "    if row[1]=='SOCIAL' and (row[5]=='1,000,000,000+'):\n",
    "        print(row[0], ':', row[5])"
   ]
  },
  {
   "cell_type": "markdown",
   "metadata": {},
   "source": [
    "The same landscape is for Video Players and Social apps. It's unlikely that the users of these applications will be enticed.\n",
    "\n",
    "Let's have a look more attentively at `Productivity` app."
   ]
  },
  {
   "cell_type": "code",
   "execution_count": 66,
   "metadata": {
    "collapsed": false
   },
   "outputs": [
    {
     "name": "stdout",
     "output_type": "stream",
     "text": [
      "Microsoft Word : 500,000,000+\n",
      "Dropbox : 500,000,000+\n",
      "Google Drive : 1,000,000,000+\n",
      "Google Calendar : 500,000,000+\n",
      "Cloud Print : 500,000,000+\n"
     ]
    }
   ],
   "source": [
    "for row in android_final:\n",
    "    if row[1]=='PRODUCTIVITY' and (row[5]=='1,000,000,000+'\n",
    "                          or row[5]=='500,000,000+'):\n",
    "        print(row[0], ':', row[5])"
   ]
  },
  {
   "cell_type": "markdown",
   "metadata": {},
   "source": [
    "Installs are skewed up by international leaders too. Microsoft, Google have occupied this niche.\n",
    "\n",
    "But as we remember Google Play have quite a lot of apps for fun - Game and Entertainment categories, let's explore them:"
   ]
  },
  {
   "cell_type": "code",
   "execution_count": 64,
   "metadata": {
    "collapsed": false
   },
   "outputs": [
    {
     "name": "stdout",
     "output_type": "stream",
     "text": [
      "Candy Crush Saga : 500,000,000+\n",
      "Subway Surfers : 1,000,000,000+\n",
      "Pou : 500,000,000+\n",
      "My Talking Tom : 500,000,000+\n",
      "Temple Run 2 : 500,000,000+\n"
     ]
    }
   ],
   "source": [
    "for row in android_final:\n",
    "    if row[1]=='GAME' and (row[5]=='1,000,000,000+'\n",
    "                          or row[5]=='500,000,000+'):\n",
    "        print(row[0], ':', row[5])"
   ]
  },
  {
   "cell_type": "code",
   "execution_count": 69,
   "metadata": {
    "collapsed": false
   },
   "outputs": [
    {
     "name": "stdout",
     "output_type": "stream",
     "text": [
      "Hotstar : 100,000,000+\n",
      "Talking Angela : 100,000,000+\n",
      "Talking Ginger 2 : 50,000,000+\n",
      "Amazon Prime Video : 50,000,000+\n",
      "IMDb Movies & TV : 100,000,000+\n",
      "Twitch: Livestream Multiplayer Games & Esports : 50,000,000+\n",
      "PlayStation App : 50,000,000+\n",
      "Talking Ben the Dog : 100,000,000+\n",
      "Netflix : 100,000,000+\n"
     ]
    }
   ],
   "source": [
    "for row in android_final:\n",
    "    if row[1]=='ENTERTAINMENT' and (row[5]=='100,000,000+'\n",
    "                          or row[5]=='50,000,000+'):\n",
    "        print(row[0], ':', row[5])"
   ]
  },
  {
   "cell_type": "markdown",
   "metadata": {},
   "source": [
    "We can see how one game can be successful and \"shoot\" among the others. It's `Subway Surfers` with more than 1 billion installs. Another popular game is `Candy Crush Saga` - tetris analogue and `My Talking Tom` - probably, this app people download for their children.\n",
    "\n",
    "In Entertainment category most apps are for watching films or for voice query like `Talking ...`.\n",
    "\n",
    "But for AppStore we've discussed that it'll be god to develop something connected with Books. So let's have a look at this Category on Google Play:"
   ]
  },
  {
   "cell_type": "code",
   "execution_count": 70,
   "metadata": {
    "collapsed": false
   },
   "outputs": [
    {
     "name": "stdout",
     "output_type": "stream",
     "text": [
      "Google Play Books : 1,000,000,000+\n",
      "Bible : 100,000,000+\n",
      "Amazon Kindle : 100,000,000+\n",
      "Wattpad 📖 Free Books : 100,000,000+\n",
      "Audiobooks from Audible : 100,000,000+\n"
     ]
    }
   ],
   "source": [
    "for row in android_final:\n",
    "    if row[1]=='BOOKS_AND_REFERENCE' and (row[5]=='1,000,000,000+'\n",
    "                          or row[5]=='500,000,000+'\n",
    "                          or row[5]=='100,000,000+'\n",
    "                          or row[5]=='50,000,000+'):\n",
    "        print(row[0], ':', row[5])"
   ]
  },
  {
   "cell_type": "markdown",
   "metadata": {},
   "source": [
    "Google Play Books is the most popular app, but considering that on Google Play very popular are applications that process human voice, we definetly should be thinking about this direction."
   ]
  },
  {
   "cell_type": "markdown",
   "metadata": {},
   "source": [
    "# Conclusion"
   ]
  },
  {
   "cell_type": "markdown",
   "metadata": {},
   "source": [
    "Finally, we can advice some directions for developers of English free apps:\n",
    "\n",
    "* Niche in Social Networking, Navigation, Communication, Weather is occupied by international leaders, but notwithstanding we can't lurn users, we can think about integration with these apps.\n",
    "* Books apps where people can have an opportunity to take actions with their voice can be breakthrough, as an example: turning pages with voice, find sentences, highlight different parts of texts."
   ]
  }
 ],
 "metadata": {
  "kernelspec": {
   "display_name": "Python 3",
   "language": "python",
   "name": "python3"
  },
  "language_info": {
   "codemirror_mode": {
    "name": "ipython",
    "version": 3
   },
   "file_extension": ".py",
   "mimetype": "text/x-python",
   "name": "python",
   "nbconvert_exporter": "python",
   "pygments_lexer": "ipython3",
   "version": "3.4.3"
  }
 },
 "nbformat": 4,
 "nbformat_minor": 2
}
